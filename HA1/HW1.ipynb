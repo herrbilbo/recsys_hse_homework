{
 "cells": [
  {
   "cell_type": "markdown",
   "metadata": {},
   "source": [
    "### Матричные факторизации"
   ]
  },
  {
   "cell_type": "markdown",
   "metadata": {},
   "source": [
    "В данной работе вам предстоит познакомиться с практической стороной матричных разложений.\n",
    "Работа поделена на 4 задания:\n",
    "1. Вам необходимо реализовать SVD разложения используя SGD на explicit данных\n",
    "2. Вам необходимо реализовать матричное разложения используя ALS на implicit данных\n",
    "3. Вам необходимо реализовать матричное разложения используя BPR(pair-wise loss) на implicit данных\n",
    "4. Вам необходимо реализовать матричное разложения используя WARP(list-wise loss) на implicit данных\n",
    "\n",
    "Мягкий дедлайн 28 Сентября (пишутся замечания, выставляется оценка, есть возможность исправить до жесткого дедлайна)\n",
    "\n",
    "Жесткий дедлайн 5 Октября (Итоговая проверка)"
   ]
  },
  {
   "cell_type": "code",
   "execution_count": 1,
   "metadata": {},
   "outputs": [],
   "source": [
    "import implicit\n",
    "import pandas as pd\n",
    "import numpy as np\n",
    "import scipy.sparse as sp\n",
    "\n",
    "from lightfm.datasets import fetch_movielens"
   ]
  },
  {
   "cell_type": "markdown",
   "metadata": {},
   "source": [
    "В данной работе мы будем работать с explicit датасетом movieLens, в котором представленны пары user_id movie_id и rating выставленный пользователем фильму\n",
    "\n",
    "Скачать датасет можно по ссылке https://grouplens.org/datasets/movielens/1m/"
   ]
  },
  {
   "cell_type": "code",
   "execution_count": 2,
   "metadata": {},
   "outputs": [],
   "source": [
    "ratings = pd.read_csv('ratings.dat', delimiter='::', header=None, \n",
    "        names=['user_id', 'movie_id', 'rating', 'timestamp'], \n",
    "        usecols=['user_id', 'movie_id', 'rating'], engine='python')"
   ]
  },
  {
   "cell_type": "code",
   "execution_count": 3,
   "metadata": {},
   "outputs": [],
   "source": [
    "movie_info = pd.read_csv('movies.dat', delimiter='::', header=None, \n",
    "        names=['movie_id', 'name', 'category'], engine='python')"
   ]
  },
  {
   "cell_type": "markdown",
   "metadata": {},
   "source": [
    "Explicit данные"
   ]
  },
  {
   "cell_type": "code",
   "execution_count": 4,
   "metadata": {},
   "outputs": [
    {
     "data": {
      "text/html": [
       "<div>\n",
       "<style scoped>\n",
       "    .dataframe tbody tr th:only-of-type {\n",
       "        vertical-align: middle;\n",
       "    }\n",
       "\n",
       "    .dataframe tbody tr th {\n",
       "        vertical-align: top;\n",
       "    }\n",
       "\n",
       "    .dataframe thead th {\n",
       "        text-align: right;\n",
       "    }\n",
       "</style>\n",
       "<table border=\"1\" class=\"dataframe\">\n",
       "  <thead>\n",
       "    <tr style=\"text-align: right;\">\n",
       "      <th></th>\n",
       "      <th>user_id</th>\n",
       "      <th>movie_id</th>\n",
       "      <th>rating</th>\n",
       "    </tr>\n",
       "  </thead>\n",
       "  <tbody>\n",
       "    <tr>\n",
       "      <th>0</th>\n",
       "      <td>1</td>\n",
       "      <td>1193</td>\n",
       "      <td>5</td>\n",
       "    </tr>\n",
       "    <tr>\n",
       "      <th>1</th>\n",
       "      <td>1</td>\n",
       "      <td>661</td>\n",
       "      <td>3</td>\n",
       "    </tr>\n",
       "    <tr>\n",
       "      <th>2</th>\n",
       "      <td>1</td>\n",
       "      <td>914</td>\n",
       "      <td>3</td>\n",
       "    </tr>\n",
       "    <tr>\n",
       "      <th>3</th>\n",
       "      <td>1</td>\n",
       "      <td>3408</td>\n",
       "      <td>4</td>\n",
       "    </tr>\n",
       "    <tr>\n",
       "      <th>4</th>\n",
       "      <td>1</td>\n",
       "      <td>2355</td>\n",
       "      <td>5</td>\n",
       "    </tr>\n",
       "    <tr>\n",
       "      <th>5</th>\n",
       "      <td>1</td>\n",
       "      <td>1197</td>\n",
       "      <td>3</td>\n",
       "    </tr>\n",
       "    <tr>\n",
       "      <th>6</th>\n",
       "      <td>1</td>\n",
       "      <td>1287</td>\n",
       "      <td>5</td>\n",
       "    </tr>\n",
       "    <tr>\n",
       "      <th>7</th>\n",
       "      <td>1</td>\n",
       "      <td>2804</td>\n",
       "      <td>5</td>\n",
       "    </tr>\n",
       "    <tr>\n",
       "      <th>8</th>\n",
       "      <td>1</td>\n",
       "      <td>594</td>\n",
       "      <td>4</td>\n",
       "    </tr>\n",
       "    <tr>\n",
       "      <th>9</th>\n",
       "      <td>1</td>\n",
       "      <td>919</td>\n",
       "      <td>4</td>\n",
       "    </tr>\n",
       "  </tbody>\n",
       "</table>\n",
       "</div>"
      ],
      "text/plain": [
       "   user_id  movie_id  rating\n",
       "0        1      1193       5\n",
       "1        1       661       3\n",
       "2        1       914       3\n",
       "3        1      3408       4\n",
       "4        1      2355       5\n",
       "5        1      1197       3\n",
       "6        1      1287       5\n",
       "7        1      2804       5\n",
       "8        1       594       4\n",
       "9        1       919       4"
      ]
     },
     "execution_count": 4,
     "metadata": {},
     "output_type": "execute_result"
    }
   ],
   "source": [
    "ratings.head(10)"
   ]
  },
  {
   "cell_type": "code",
   "execution_count": 5,
   "metadata": {},
   "outputs": [],
   "source": [
    "ratings = ratings.sort_values(by = ['user_id', 'movie_id']) "
   ]
  },
  {
   "cell_type": "code",
   "execution_count": 6,
   "metadata": {},
   "outputs": [
    {
     "data": {
      "text/html": [
       "<div>\n",
       "<style scoped>\n",
       "    .dataframe tbody tr th:only-of-type {\n",
       "        vertical-align: middle;\n",
       "    }\n",
       "\n",
       "    .dataframe tbody tr th {\n",
       "        vertical-align: top;\n",
       "    }\n",
       "\n",
       "    .dataframe thead th {\n",
       "        text-align: right;\n",
       "    }\n",
       "</style>\n",
       "<table border=\"1\" class=\"dataframe\">\n",
       "  <thead>\n",
       "    <tr style=\"text-align: right;\">\n",
       "      <th></th>\n",
       "      <th>user_id</th>\n",
       "      <th>movie_id</th>\n",
       "      <th>rating</th>\n",
       "    </tr>\n",
       "  </thead>\n",
       "  <tbody>\n",
       "    <tr>\n",
       "      <th>40</th>\n",
       "      <td>1</td>\n",
       "      <td>1</td>\n",
       "      <td>5</td>\n",
       "    </tr>\n",
       "    <tr>\n",
       "      <th>25</th>\n",
       "      <td>1</td>\n",
       "      <td>48</td>\n",
       "      <td>5</td>\n",
       "    </tr>\n",
       "    <tr>\n",
       "      <th>39</th>\n",
       "      <td>1</td>\n",
       "      <td>150</td>\n",
       "      <td>5</td>\n",
       "    </tr>\n",
       "    <tr>\n",
       "      <th>44</th>\n",
       "      <td>1</td>\n",
       "      <td>260</td>\n",
       "      <td>4</td>\n",
       "    </tr>\n",
       "    <tr>\n",
       "      <th>23</th>\n",
       "      <td>1</td>\n",
       "      <td>527</td>\n",
       "      <td>5</td>\n",
       "    </tr>\n",
       "    <tr>\n",
       "      <th>49</th>\n",
       "      <td>1</td>\n",
       "      <td>531</td>\n",
       "      <td>4</td>\n",
       "    </tr>\n",
       "    <tr>\n",
       "      <th>33</th>\n",
       "      <td>1</td>\n",
       "      <td>588</td>\n",
       "      <td>4</td>\n",
       "    </tr>\n",
       "    <tr>\n",
       "      <th>8</th>\n",
       "      <td>1</td>\n",
       "      <td>594</td>\n",
       "      <td>4</td>\n",
       "    </tr>\n",
       "    <tr>\n",
       "      <th>10</th>\n",
       "      <td>1</td>\n",
       "      <td>595</td>\n",
       "      <td>5</td>\n",
       "    </tr>\n",
       "    <tr>\n",
       "      <th>51</th>\n",
       "      <td>1</td>\n",
       "      <td>608</td>\n",
       "      <td>4</td>\n",
       "    </tr>\n",
       "  </tbody>\n",
       "</table>\n",
       "</div>"
      ],
      "text/plain": [
       "    user_id  movie_id  rating\n",
       "40        1         1       5\n",
       "25        1        48       5\n",
       "39        1       150       5\n",
       "44        1       260       4\n",
       "23        1       527       5\n",
       "49        1       531       4\n",
       "33        1       588       4\n",
       "8         1       594       4\n",
       "10        1       595       5\n",
       "51        1       608       4"
      ]
     },
     "execution_count": 6,
     "metadata": {},
     "output_type": "execute_result"
    }
   ],
   "source": [
    "ratings.head(10)"
   ]
  },
  {
   "cell_type": "code",
   "execution_count": 7,
   "metadata": {},
   "outputs": [
    {
     "name": "stdout",
     "output_type": "stream",
     "text": [
      "6040\n",
      "3952\n"
     ]
    }
   ],
   "source": [
    "print(np.max(ratings['user_id']))\n",
    "print(np.max(ratings['movie_id']))"
   ]
  },
  {
   "cell_type": "markdown",
   "metadata": {},
   "source": [
    "Для того, чтобы преобразовать текущий датасет в Implicit, давайте считать что позитивная оценка это оценка >=4"
   ]
  },
  {
   "cell_type": "code",
   "execution_count": 8,
   "metadata": {},
   "outputs": [],
   "source": [
    "implicit_ratings = ratings.loc[(ratings['rating'] >= 4)]"
   ]
  },
  {
   "cell_type": "code",
   "execution_count": 9,
   "metadata": {},
   "outputs": [
    {
     "data": {
      "text/html": [
       "<div>\n",
       "<style scoped>\n",
       "    .dataframe tbody tr th:only-of-type {\n",
       "        vertical-align: middle;\n",
       "    }\n",
       "\n",
       "    .dataframe tbody tr th {\n",
       "        vertical-align: top;\n",
       "    }\n",
       "\n",
       "    .dataframe thead th {\n",
       "        text-align: right;\n",
       "    }\n",
       "</style>\n",
       "<table border=\"1\" class=\"dataframe\">\n",
       "  <thead>\n",
       "    <tr style=\"text-align: right;\">\n",
       "      <th></th>\n",
       "      <th>user_id</th>\n",
       "      <th>movie_id</th>\n",
       "      <th>rating</th>\n",
       "    </tr>\n",
       "  </thead>\n",
       "  <tbody>\n",
       "    <tr>\n",
       "      <th>40</th>\n",
       "      <td>1</td>\n",
       "      <td>1</td>\n",
       "      <td>5</td>\n",
       "    </tr>\n",
       "    <tr>\n",
       "      <th>25</th>\n",
       "      <td>1</td>\n",
       "      <td>48</td>\n",
       "      <td>5</td>\n",
       "    </tr>\n",
       "    <tr>\n",
       "      <th>39</th>\n",
       "      <td>1</td>\n",
       "      <td>150</td>\n",
       "      <td>5</td>\n",
       "    </tr>\n",
       "    <tr>\n",
       "      <th>44</th>\n",
       "      <td>1</td>\n",
       "      <td>260</td>\n",
       "      <td>4</td>\n",
       "    </tr>\n",
       "    <tr>\n",
       "      <th>23</th>\n",
       "      <td>1</td>\n",
       "      <td>527</td>\n",
       "      <td>5</td>\n",
       "    </tr>\n",
       "    <tr>\n",
       "      <th>49</th>\n",
       "      <td>1</td>\n",
       "      <td>531</td>\n",
       "      <td>4</td>\n",
       "    </tr>\n",
       "    <tr>\n",
       "      <th>33</th>\n",
       "      <td>1</td>\n",
       "      <td>588</td>\n",
       "      <td>4</td>\n",
       "    </tr>\n",
       "    <tr>\n",
       "      <th>8</th>\n",
       "      <td>1</td>\n",
       "      <td>594</td>\n",
       "      <td>4</td>\n",
       "    </tr>\n",
       "    <tr>\n",
       "      <th>10</th>\n",
       "      <td>1</td>\n",
       "      <td>595</td>\n",
       "      <td>5</td>\n",
       "    </tr>\n",
       "    <tr>\n",
       "      <th>51</th>\n",
       "      <td>1</td>\n",
       "      <td>608</td>\n",
       "      <td>4</td>\n",
       "    </tr>\n",
       "  </tbody>\n",
       "</table>\n",
       "</div>"
      ],
      "text/plain": [
       "    user_id  movie_id  rating\n",
       "40        1         1       5\n",
       "25        1        48       5\n",
       "39        1       150       5\n",
       "44        1       260       4\n",
       "23        1       527       5\n",
       "49        1       531       4\n",
       "33        1       588       4\n",
       "8         1       594       4\n",
       "10        1       595       5\n",
       "51        1       608       4"
      ]
     },
     "execution_count": 9,
     "metadata": {},
     "output_type": "execute_result"
    }
   ],
   "source": [
    "implicit_ratings.head(10)"
   ]
  },
  {
   "cell_type": "code",
   "execution_count": 10,
   "metadata": {},
   "outputs": [
    {
     "name": "stderr",
     "output_type": "stream",
     "text": [
      "/home/bilbo/anaconda3/lib/python3.7/site-packages/ipykernel_launcher.py:1: SettingWithCopyWarning: \n",
      "A value is trying to be set on a copy of a slice from a DataFrame.\n",
      "Try using .loc[row_indexer,col_indexer] = value instead\n",
      "\n",
      "See the caveats in the documentation: https://pandas.pydata.org/pandas-docs/stable/user_guide/indexing.html#returning-a-view-versus-a-copy\n",
      "  \"\"\"Entry point for launching an IPython kernel.\n"
     ]
    }
   ],
   "source": [
    "implicit_ratings['rating'] = 1"
   ]
  },
  {
   "cell_type": "code",
   "execution_count": 11,
   "metadata": {},
   "outputs": [
    {
     "data": {
      "text/html": [
       "<div>\n",
       "<style scoped>\n",
       "    .dataframe tbody tr th:only-of-type {\n",
       "        vertical-align: middle;\n",
       "    }\n",
       "\n",
       "    .dataframe tbody tr th {\n",
       "        vertical-align: top;\n",
       "    }\n",
       "\n",
       "    .dataframe thead th {\n",
       "        text-align: right;\n",
       "    }\n",
       "</style>\n",
       "<table border=\"1\" class=\"dataframe\">\n",
       "  <thead>\n",
       "    <tr style=\"text-align: right;\">\n",
       "      <th></th>\n",
       "      <th>user_id</th>\n",
       "      <th>movie_id</th>\n",
       "      <th>rating</th>\n",
       "    </tr>\n",
       "  </thead>\n",
       "  <tbody>\n",
       "    <tr>\n",
       "      <th>40</th>\n",
       "      <td>1</td>\n",
       "      <td>1</td>\n",
       "      <td>1</td>\n",
       "    </tr>\n",
       "    <tr>\n",
       "      <th>25</th>\n",
       "      <td>1</td>\n",
       "      <td>48</td>\n",
       "      <td>1</td>\n",
       "    </tr>\n",
       "    <tr>\n",
       "      <th>39</th>\n",
       "      <td>1</td>\n",
       "      <td>150</td>\n",
       "      <td>1</td>\n",
       "    </tr>\n",
       "    <tr>\n",
       "      <th>44</th>\n",
       "      <td>1</td>\n",
       "      <td>260</td>\n",
       "      <td>1</td>\n",
       "    </tr>\n",
       "    <tr>\n",
       "      <th>23</th>\n",
       "      <td>1</td>\n",
       "      <td>527</td>\n",
       "      <td>1</td>\n",
       "    </tr>\n",
       "    <tr>\n",
       "      <th>49</th>\n",
       "      <td>1</td>\n",
       "      <td>531</td>\n",
       "      <td>1</td>\n",
       "    </tr>\n",
       "    <tr>\n",
       "      <th>33</th>\n",
       "      <td>1</td>\n",
       "      <td>588</td>\n",
       "      <td>1</td>\n",
       "    </tr>\n",
       "    <tr>\n",
       "      <th>8</th>\n",
       "      <td>1</td>\n",
       "      <td>594</td>\n",
       "      <td>1</td>\n",
       "    </tr>\n",
       "    <tr>\n",
       "      <th>10</th>\n",
       "      <td>1</td>\n",
       "      <td>595</td>\n",
       "      <td>1</td>\n",
       "    </tr>\n",
       "    <tr>\n",
       "      <th>51</th>\n",
       "      <td>1</td>\n",
       "      <td>608</td>\n",
       "      <td>1</td>\n",
       "    </tr>\n",
       "  </tbody>\n",
       "</table>\n",
       "</div>"
      ],
      "text/plain": [
       "    user_id  movie_id  rating\n",
       "40        1         1       1\n",
       "25        1        48       1\n",
       "39        1       150       1\n",
       "44        1       260       1\n",
       "23        1       527       1\n",
       "49        1       531       1\n",
       "33        1       588       1\n",
       "8         1       594       1\n",
       "10        1       595       1\n",
       "51        1       608       1"
      ]
     },
     "execution_count": 11,
     "metadata": {},
     "output_type": "execute_result"
    }
   ],
   "source": [
    "implicit_ratings.head(10)"
   ]
  },
  {
   "cell_type": "markdown",
   "metadata": {},
   "source": [
    "Удобнее работать с sparse матричками, давайте преобразуем DataFrame в CSR матрицы"
   ]
  },
  {
   "cell_type": "code",
   "execution_count": 12,
   "metadata": {},
   "outputs": [],
   "source": [
    "users = implicit_ratings[\"user_id\"]\n",
    "movies = implicit_ratings[\"movie_id\"]\n",
    "user_item = sp.coo_matrix((np.ones_like(users), (users, movies)))\n",
    "user_item_t_csr = user_item.T.tocsr()\n",
    "user_item_csr = user_item.tocsr()"
   ]
  },
  {
   "cell_type": "markdown",
   "metadata": {},
   "source": [
    "В качестве примера воспользуемся ALS разложением из библиотеки implicit\n",
    "\n",
    "Зададим размерность латентного пространства равным 64, это же определяет размер user/item эмбедингов"
   ]
  },
  {
   "cell_type": "code",
   "execution_count": 13,
   "metadata": {},
   "outputs": [
    {
     "name": "stderr",
     "output_type": "stream",
     "text": [
      "WARNING:root:Intel MKL BLAS detected. Its highly recommend to set the environment variable 'export MKL_NUM_THREADS=1' to disable its internal multithreading\n"
     ]
    }
   ],
   "source": [
    "model = implicit.als.AlternatingLeastSquares(factors=64, iterations=100, calculate_training_loss=True)"
   ]
  },
  {
   "cell_type": "markdown",
   "metadata": {},
   "source": [
    "В качестве loss здесь всеми любимый RMSE"
   ]
  },
  {
   "cell_type": "code",
   "execution_count": 14,
   "metadata": {},
   "outputs": [
    {
     "data": {
      "application/vnd.jupyter.widget-view+json": {
       "model_id": "bf144528a3334bcbb374b80fdfd8e4fc",
       "version_major": 2,
       "version_minor": 0
      },
      "text/plain": [
       "HBox(children=(FloatProgress(value=0.0), HTML(value='')))"
      ]
     },
     "metadata": {},
     "output_type": "display_data"
    },
    {
     "name": "stdout",
     "output_type": "stream",
     "text": [
      "\n"
     ]
    }
   ],
   "source": [
    "model.fit(user_item_t_csr)"
   ]
  },
  {
   "cell_type": "markdown",
   "metadata": {},
   "source": [
    "Построим похожие фильмы по 1 movie_id = Истории игрушек"
   ]
  },
  {
   "cell_type": "code",
   "execution_count": 15,
   "metadata": {},
   "outputs": [
    {
     "data": {
      "text/html": [
       "<div>\n",
       "<style scoped>\n",
       "    .dataframe tbody tr th:only-of-type {\n",
       "        vertical-align: middle;\n",
       "    }\n",
       "\n",
       "    .dataframe tbody tr th {\n",
       "        vertical-align: top;\n",
       "    }\n",
       "\n",
       "    .dataframe thead th {\n",
       "        text-align: right;\n",
       "    }\n",
       "</style>\n",
       "<table border=\"1\" class=\"dataframe\">\n",
       "  <thead>\n",
       "    <tr style=\"text-align: right;\">\n",
       "      <th></th>\n",
       "      <th>movie_id</th>\n",
       "      <th>name</th>\n",
       "      <th>category</th>\n",
       "    </tr>\n",
       "  </thead>\n",
       "  <tbody>\n",
       "    <tr>\n",
       "      <th>0</th>\n",
       "      <td>1</td>\n",
       "      <td>Toy Story (1995)</td>\n",
       "      <td>Animation|Children's|Comedy</td>\n",
       "    </tr>\n",
       "    <tr>\n",
       "      <th>1</th>\n",
       "      <td>2</td>\n",
       "      <td>Jumanji (1995)</td>\n",
       "      <td>Adventure|Children's|Fantasy</td>\n",
       "    </tr>\n",
       "    <tr>\n",
       "      <th>2</th>\n",
       "      <td>3</td>\n",
       "      <td>Grumpier Old Men (1995)</td>\n",
       "      <td>Comedy|Romance</td>\n",
       "    </tr>\n",
       "    <tr>\n",
       "      <th>3</th>\n",
       "      <td>4</td>\n",
       "      <td>Waiting to Exhale (1995)</td>\n",
       "      <td>Comedy|Drama</td>\n",
       "    </tr>\n",
       "    <tr>\n",
       "      <th>4</th>\n",
       "      <td>5</td>\n",
       "      <td>Father of the Bride Part II (1995)</td>\n",
       "      <td>Comedy</td>\n",
       "    </tr>\n",
       "  </tbody>\n",
       "</table>\n",
       "</div>"
      ],
      "text/plain": [
       "   movie_id                                name                      category\n",
       "0         1                    Toy Story (1995)   Animation|Children's|Comedy\n",
       "1         2                      Jumanji (1995)  Adventure|Children's|Fantasy\n",
       "2         3             Grumpier Old Men (1995)                Comedy|Romance\n",
       "3         4            Waiting to Exhale (1995)                  Comedy|Drama\n",
       "4         5  Father of the Bride Part II (1995)                        Comedy"
      ]
     },
     "execution_count": 15,
     "metadata": {},
     "output_type": "execute_result"
    }
   ],
   "source": [
    "movie_info.head(5)"
   ]
  },
  {
   "cell_type": "code",
   "execution_count": 16,
   "metadata": {},
   "outputs": [],
   "source": [
    "get_similars = lambda item_id, model : [movie_info[movie_info[\"movie_id\"] == x[0]][\"name\"].to_string() \n",
    "                                        for x in model.similar_items(item_id)]"
   ]
  },
  {
   "cell_type": "markdown",
   "metadata": {},
   "source": [
    "Как мы видим, симилары действительно оказались симиларами.\n",
    "\n",
    "Качество симиларов часто является хорошим способом проверить качество алгоритмов.\n",
    "\n",
    "P.S. Если хочется поглубже разобраться в том как разные алгоритмы формируют разные латентные пространства, рекомендую загружать полученные вектора в tensorBoard и смотреть на сформированное пространство"
   ]
  },
  {
   "cell_type": "code",
   "execution_count": 17,
   "metadata": {},
   "outputs": [
    {
     "data": {
      "text/plain": [
       "['0    Toy Story (1995)',\n",
       " '3045    Toy Story 2 (1999)',\n",
       " \"2286    Bug's Life, A (1998)\",\n",
       " '33    Babe (1995)',\n",
       " '584    Aladdin (1992)',\n",
       " '2315    Babe: Pig in the City (1998)',\n",
       " '360    Lion King, The (1994)',\n",
       " '1526    Hercules (1997)',\n",
       " '2692    Iron Giant, The (1999)',\n",
       " '2252    Pleasantville (1998)']"
      ]
     },
     "execution_count": 17,
     "metadata": {},
     "output_type": "execute_result"
    }
   ],
   "source": [
    "get_similars(1, model)"
   ]
  },
  {
   "cell_type": "markdown",
   "metadata": {},
   "source": [
    "Давайте теперь построим рекомендации для юзеров\n",
    "\n",
    "Как мы видим юзеру нравится фантастика, значит и в рекомендациях ожидаем увидеть фантастику"
   ]
  },
  {
   "cell_type": "code",
   "execution_count": 18,
   "metadata": {},
   "outputs": [],
   "source": [
    "get_user_history = lambda user_id, implicit_ratings : [movie_info[movie_info[\"movie_id\"] == x][\"name\"].to_string() \n",
    "                                            for x in implicit_ratings[implicit_ratings[\"user_id\"] == user_id][\"movie_id\"]]"
   ]
  },
  {
   "cell_type": "code",
   "execution_count": 19,
   "metadata": {},
   "outputs": [
    {
     "data": {
      "text/plain": [
       "['257    Star Wars: Episode IV - A New Hope (1977)',\n",
       " '476    Jurassic Park (1993)',\n",
       " '1023    Die Hard (1988)',\n",
       " '1081    E.T. the Extra-Terrestrial (1982)',\n",
       " '1180    Raiders of the Lost Ark (1981)',\n",
       " '1183    Good, The Bad and The Ugly, The (1966)',\n",
       " '1196    Alien (1979)',\n",
       " '1220    Terminator, The (1984)',\n",
       " '1366    Jaws (1975)',\n",
       " '1885    Rocky (1976)',\n",
       " '1959    Saving Private Ryan (1998)',\n",
       " '2297    King Kong (1933)',\n",
       " '2623    Run Lola Run (Lola rennt) (1998)',\n",
       " '2878    Goldfinger (1964)',\n",
       " '2882    Fistful of Dollars, A (1964)',\n",
       " '3349    Thelma & Louise (1991)',\n",
       " '3399    Hustler, The (1961)',\n",
       " '3633    Mad Max (1979)']"
      ]
     },
     "execution_count": 19,
     "metadata": {},
     "output_type": "execute_result"
    }
   ],
   "source": [
    "get_user_history(4, implicit_ratings)"
   ]
  },
  {
   "cell_type": "markdown",
   "metadata": {},
   "source": [
    "Получилось! \n",
    "\n",
    "Мы действительно порекомендовали пользователю фантастику и боевики, более того встречаются продолжения тех фильмов, которые он высоко оценил"
   ]
  },
  {
   "cell_type": "code",
   "execution_count": 20,
   "metadata": {},
   "outputs": [],
   "source": [
    "get_recommendations = lambda user_id, model : [movie_info[movie_info[\"movie_id\"] == x[0]][\"name\"].to_string() \n",
    "                                               for x in model.recommend(user_id, user_item_csr)]"
   ]
  },
  {
   "cell_type": "code",
   "execution_count": 21,
   "metadata": {},
   "outputs": [
    {
     "data": {
      "text/plain": [
       "['585    Terminator 2: Judgment Day (1991)',\n",
       " '1271    Indiana Jones and the Last Crusade (1989)',\n",
       " '1284    Butch Cassidy and the Sundance Kid (1969)',\n",
       " '1182    Aliens (1986)',\n",
       " '2502    Matrix, The (1999)',\n",
       " '1178    Star Wars: Episode V - The Empire Strikes Back...',\n",
       " '1892    Rain Man (1988)',\n",
       " '1884    French Connection, The (1971)',\n",
       " '1179    Princess Bride, The (1987)',\n",
       " '847    Godfather, The (1972)']"
      ]
     },
     "execution_count": 21,
     "metadata": {},
     "output_type": "execute_result"
    }
   ],
   "source": [
    "get_recommendations(4, model)"
   ]
  },
  {
   "cell_type": "markdown",
   "metadata": {},
   "source": [
    "Теперь ваша очередь реализовать самые популярные алгоритмы матричных разложений\n",
    "\n",
    "Что будет оцениваться:\n",
    "1. Корректность алгоритма\n",
    "2. Качество получившихся симиларов\n",
    "3. Качество итоговых рекомендаций для юзера"
   ]
  },
  {
   "cell_type": "markdown",
   "metadata": {},
   "source": [
    "### Задание 1. Не использую готовые решения, реализовать SVD разложение используя SGD на explicit данных"
   ]
  },
  {
   "cell_type": "code",
   "execution_count": 22,
   "metadata": {},
   "outputs": [],
   "source": [
    "class svd:\n",
    "    def __init__(self, latent=64, regn=0.01, lr=0.01, max_iter=300000, eps=0.0):\n",
    "        self.latent = latent\n",
    "        self.regn = regn\n",
    "        self.lr = lr\n",
    "        self.max_iter=max_iter\n",
    "        self.eps = eps\n",
    "        \n",
    "    def fit(self, df, movie_info):\n",
    "        #V = sp.coo_matrix((df['rating'], (df['user_id'], df['movie_id']))).tocsr()\n",
    "        \n",
    "        self.df = df\n",
    "        self.movie_info = movie_info\n",
    "        \n",
    "        self.total_users = np.max(df['user_id'])\n",
    "        self.total_items = np.max(df['movie_id'])\n",
    "        total_len = len(df)\n",
    "        \n",
    "        W = np.random.random((self.total_users, self.latent)) * (1 / np.sqrt(self.latent))\n",
    "        H = np.random.random((self.latent, self.total_items)) * (1 / np.sqrt(self.latent))\n",
    "        \n",
    "        B_u = np.zeros((self.total_users, 1))\n",
    "        B_i = np.zeros((1, self.total_items))\n",
    "        mu = self.df['rating'].mean()\n",
    "        \n",
    "        \n",
    "        cur_iter = 0\n",
    "        \n",
    "        while cur_iter <= self.max_iter + 1:\n",
    "            if cur_iter % 100000 == 0:\n",
    "                rmse = np.linalg.norm((W@H + B_u + B_i + mu)[df['user_id']-1, df['movie_id']-1] - df['rating'])\n",
    "                rmse /= np.sqrt(total_len)\n",
    "                if rmse <= self.eps:\n",
    "                    print(f\"Let's stop on iter {cur_iter}!\")\n",
    "                    break\n",
    "                    \n",
    "                print(f'current: {cur_iter}/{self.max_iter}, rmse: {rmse}')\n",
    "                            \n",
    "            cur_id = np.random.randint(low=0, high=total_len)\n",
    "            i = df.iloc[cur_id]['user_id'] - 1\n",
    "            j = df.iloc[cur_id]['movie_id'] - 1\n",
    "            value = df.iloc[cur_id]['rating']\n",
    "            \n",
    "            error = W[i, :] @ H[:, j] + B_u[i] + B_i[0, j] + mu - value\n",
    "            \n",
    "            W[i, :] = W[i, :] * (1 - self.lr * self.regn) - self.lr * error * H[:, j].T\n",
    "            H[:, j] = H[:, j] * (1 - self.lr * self.regn) - self.lr * error * W[i, :].T\n",
    "            B_u[i] = B_u[i] - self.lr * (error + self.regn * B_u[i])\n",
    "            B_i[0, j] = B_i[0, j] - self.lr * (error + self.regn * B_i[0, j])\n",
    "            \n",
    "            cur_iter += 1\n",
    "            \n",
    "        self.w, self.h, self.b_u, self.b_i, self.mu = W, H, B_u, B_i, mu\n",
    "        \n",
    "    def get_history(self, cur_user_id):\n",
    "        history = [self.movie_info[self.movie_info[\"movie_id\"] == x][\"name\"].to_string() for x in self.df[self.df[\"user_id\"] == cur_user_id][\"movie_id\"]]\n",
    "        return history\n",
    "        \n",
    "    def get_recommendations(self, cur_user_id, best_k=5):\n",
    "        all_predicted_ratings = (self.w @ self.h + self.b_u + self.b_i + self.mu)[cur_user_id - 1]\n",
    "        \n",
    "        known_ratings = np.array(self.df.loc[self.df['user_id'] == cur_user_id]['movie_id'])\n",
    "        \n",
    "        need_to_predict = [i for i in movie_info[\"movie_id\"] if i not in known_ratings]\n",
    "        \n",
    "        need_to_predict.sort(key=lambda x: all_predicted_ratings[x - 1], reverse=True)\n",
    "        \n",
    "        res = np.array(need_to_predict[:best_k])\n",
    "        \n",
    "        best_names = [self.movie_info[self.movie_info[\"movie_id\"] == x][\"name\"].to_string() for x in res]\n",
    "        \n",
    "        return best_names\n",
    "    \n",
    "    def get_similars(self, cur_movie_id, best_k=5):       \n",
    "        cur_movie_embedding = self.h[:, cur_movie_id - 1]\n",
    "        \n",
    "        all_films = [i for i in movie_info[\"movie_id\"]]\n",
    "        \n",
    "        all_films.sort(key=lambda x: np.linalg.norm(cur_movie_embedding - self.h[:, x - 1]))\n",
    "        \n",
    "        res = np.array(all_films[:best_k])\n",
    "        \n",
    "        best_names = [self.movie_info[self.movie_info[\"movie_id\"] == x][\"name\"].to_string() for x in res]\n",
    "        \n",
    "        return best_names"
   ]
  },
  {
   "cell_type": "code",
   "execution_count": 23,
   "metadata": {},
   "outputs": [
    {
     "name": "stdout",
     "output_type": "stream",
     "text": [
      "current: 0/5000000, rmse: 1.1455727758877459\n",
      "current: 100000/5000000, rmse: 1.0047668431154533\n",
      "current: 200000/5000000, rmse: 0.96678444659504\n",
      "current: 300000/5000000, rmse: 0.9483664043786628\n",
      "current: 400000/5000000, rmse: 0.9374847442532682\n",
      "current: 500000/5000000, rmse: 0.9306308830307863\n",
      "current: 600000/5000000, rmse: 0.9252260995577941\n",
      "current: 700000/5000000, rmse: 0.9212778588353278\n",
      "current: 800000/5000000, rmse: 0.9180147792794007\n",
      "current: 900000/5000000, rmse: 0.9152667769400795\n",
      "current: 1000000/5000000, rmse: 0.9128157885714528\n",
      "current: 1100000/5000000, rmse: 0.9108351233864429\n",
      "current: 1200000/5000000, rmse: 0.909008550102539\n",
      "current: 1300000/5000000, rmse: 0.9074733627001527\n",
      "current: 1400000/5000000, rmse: 0.9061616502900375\n",
      "current: 1500000/5000000, rmse: 0.904666253206701\n",
      "current: 1600000/5000000, rmse: 0.9033278184047804\n",
      "current: 1700000/5000000, rmse: 0.9021855598465327\n",
      "current: 1800000/5000000, rmse: 0.9007944967859004\n",
      "current: 1900000/5000000, rmse: 0.899685013826737\n",
      "current: 2000000/5000000, rmse: 0.8984068767601177\n",
      "current: 2100000/5000000, rmse: 0.8971700848576761\n",
      "current: 2200000/5000000, rmse: 0.8960795473316605\n",
      "current: 2300000/5000000, rmse: 0.8946959054500115\n",
      "current: 2400000/5000000, rmse: 0.8934514381055979\n",
      "current: 2500000/5000000, rmse: 0.892318726223907\n",
      "current: 2600000/5000000, rmse: 0.8909832594277776\n",
      "current: 2700000/5000000, rmse: 0.8895250819701708\n",
      "current: 2800000/5000000, rmse: 0.8881798208154914\n",
      "current: 2900000/5000000, rmse: 0.8867018890166991\n",
      "current: 3000000/5000000, rmse: 0.8854658031927608\n",
      "current: 3100000/5000000, rmse: 0.8839553535010006\n",
      "current: 3200000/5000000, rmse: 0.8822389187361319\n",
      "current: 3300000/5000000, rmse: 0.8807859441915972\n",
      "current: 3400000/5000000, rmse: 0.8787585457421786\n",
      "current: 3500000/5000000, rmse: 0.8770878005080252\n",
      "current: 3600000/5000000, rmse: 0.8751481094830327\n",
      "current: 3700000/5000000, rmse: 0.8732556355984566\n",
      "current: 3800000/5000000, rmse: 0.8712530384963465\n",
      "current: 3900000/5000000, rmse: 0.8691272870034024\n",
      "current: 4000000/5000000, rmse: 0.8666048888348625\n",
      "current: 4100000/5000000, rmse: 0.8649543247722253\n",
      "current: 4200000/5000000, rmse: 0.8625259977839063\n",
      "current: 4300000/5000000, rmse: 0.8602216822083397\n",
      "current: 4400000/5000000, rmse: 0.8578929017990937\n",
      "current: 4500000/5000000, rmse: 0.8555201909869138\n",
      "current: 4600000/5000000, rmse: 0.8532771820264201\n",
      "current: 4700000/5000000, rmse: 0.8510741062584247\n",
      "current: 4800000/5000000, rmse: 0.8484102607642735\n",
      "current: 4900000/5000000, rmse: 0.8458920602012264\n",
      "current: 5000000/5000000, rmse: 0.8433072009925074\n",
      "CPU times: user 32min 27s, sys: 11.1 s, total: 32min 38s\n",
      "Wall time: 32min 2s\n"
     ]
    }
   ],
   "source": [
    "%%time\n",
    "\n",
    "model = svd(max_iter=int(5e6))\n",
    "\n",
    "model.fit(ratings, movie_info)"
   ]
  },
  {
   "cell_type": "code",
   "execution_count": 24,
   "metadata": {},
   "outputs": [
    {
     "name": "stdout",
     "output_type": "stream",
     "text": [
      "This guy's history is:\n",
      "257    Star Wars: Episode IV - A New Hope (1977)\n",
      "476    Jurassic Park (1993)\n",
      "1023    Die Hard (1988)\n",
      "1081    E.T. the Extra-Terrestrial (1982)\n",
      "1178    Star Wars: Episode V - The Empire Strikes Back...\n",
      "1180    Raiders of the Lost Ark (1981)\n",
      "1183    Good, The Bad and The Ugly, The (1966)\n",
      "1192    Star Wars: Episode VI - Return of the Jedi (1983)\n",
      "1196    Alien (1979)\n",
      "1220    Terminator, The (1984)\n",
      "1366    Jaws (1975)\n",
      "1885    Rocky (1976)\n",
      "1959    Saving Private Ryan (1998)\n",
      "2297    King Kong (1933)\n",
      "2623    Run Lola Run (Lola rennt) (1998)\n",
      "2878    Goldfinger (1964)\n",
      "2882    Fistful of Dollars, A (1964)\n",
      "3349    Thelma & Louise (1991)\n",
      "3399    Hustler, The (1961)\n",
      "3458    Predator (1987)\n",
      "3633    Mad Max (1979)\n",
      "\n",
      "So we recommend him:\n",
      "2836    Sanjuro (1962)\n",
      "1950    Seven Samurai (The Magnificent Seven) (Shichin...\n",
      "1194    Third Man, The (1949)\n",
      "1132    Wrong Trousers, The (1993)\n",
      "911    Citizen Kane (1941)\n",
      "941    It's a Wonderful Life (1946)\n",
      "1176    One Flew Over the Cuckoo's Nest (1975)\n",
      "910    Sunset Blvd. (a.k.a. Sunset Boulevard) (1950)\n",
      "2961    Yojimbo (1961)\n",
      "847    Godfather, The (1972)\n"
     ]
    }
   ],
   "source": [
    "history = model.get_history(4)\n",
    "\n",
    "print(\"This guy's history is:\")\n",
    "for token in history:\n",
    "    print(token)\n",
    "    \n",
    "recommendations = model.get_recommendations(4, 10)\n",
    "\n",
    "print(\"\\nSo we recommend him:\")\n",
    "for token in recommendations:\n",
    "    print(token)"
   ]
  },
  {
   "cell_type": "code",
   "execution_count": 25,
   "metadata": {},
   "outputs": [
    {
     "name": "stdout",
     "output_type": "stream",
     "text": [
      "0    Toy Story (1995)\n",
      "3045    Toy Story 2 (1999)\n",
      "584    Aladdin (1992)\n",
      "2012    Little Mermaid, The (1989)\n",
      "2031    Splash (1984)\n",
      "2286    Bug's Life, A (1998)\n",
      "2728    Big (1988)\n",
      "360    Lion King, The (1994)\n",
      "1985    Honey, I Shrunk the Kids (1989)\n",
      "2338    Cocoon (1985)\n"
     ]
    }
   ],
   "source": [
    "#best = model.get_similars(260, 10)\n",
    "best = model.get_similars(1, 10)\n",
    "\n",
    "for token in best:\n",
    "    print(token)"
   ]
  },
  {
   "cell_type": "markdown",
   "metadata": {},
   "source": [
    "### Задание 2. Не использую готовые решения, реализовать матричное разложение используя ALS на implicit данных"
   ]
  },
  {
   "cell_type": "code",
   "execution_count": 26,
   "metadata": {},
   "outputs": [],
   "source": [
    "class als:\n",
    "    def __init__(self, latent=64, regn=0.001, lr=0.001, max_iter=300, eps=0.0):\n",
    "        self.latent = latent\n",
    "        self.regn = regn\n",
    "        self.lr = lr\n",
    "        self.max_iter=max_iter\n",
    "        self.eps = eps\n",
    "        \n",
    "    def fit(self, df, movie_info):\n",
    "        #V = sp.coo_matrix((df['rating'], (df['user_id'], df['movie_id']))).tocsr()\n",
    "        \n",
    "        self.df = df\n",
    "        self.movie_info = movie_info\n",
    "        \n",
    "        self.total_users = np.max(df['user_id'])\n",
    "        self.total_items = np.max(df['movie_id'])\n",
    "        total_len = len(df)\n",
    "        \n",
    "        W = np.random.random((self.total_users, self.latent)) * (1 / np.sqrt(self.latent))\n",
    "        H = np.random.random((self.latent, self.total_items)) * (1 / np.sqrt(self.latent))\n",
    "        \n",
    "        cur_iter = 0\n",
    "        \n",
    "        while cur_iter <= self.max_iter + 1:\n",
    "            if cur_iter % 10 == 0:\n",
    "                rmse = np.linalg.norm((W@H)[df['user_id']-1, df['movie_id']-1] - df['rating'])\n",
    "                rmse /= np.sqrt(total_len)\n",
    "                if rmse <= self.eps:\n",
    "                    print(f\"Let's stop on iter {cur_iter}!\")\n",
    "                    break\n",
    "                    \n",
    "                print(f'current: {cur_iter}/{self.max_iter}, rmse: {rmse}')\n",
    "                        \n",
    "            \n",
    "            V = W @ H\n",
    "            V[df['user_id']-1, df['movie_id']-1] = V[df['user_id']-1, df['movie_id']-1] - self.df['rating']\n",
    "            \n",
    "            if cur_iter % 2 == 0:\n",
    "                W = W - self.lr * (V @ H.T + self.regn * W)\n",
    "            else:\n",
    "                H = H - self.lr * (W.T @ V + self.regn * H)\n",
    "            \n",
    "            cur_iter += 1\n",
    "            \n",
    "        self.w, self.h = W, H\n",
    "        \n",
    "    def get_history(self, cur_user_id):\n",
    "        history = [self.movie_info[self.movie_info[\"movie_id\"] == x][\"name\"].to_string() for x in self.df[self.df[\"user_id\"] == cur_user_id][\"movie_id\"]]\n",
    "        return history\n",
    "        \n",
    "    def get_recommendations(self, cur_user_id, best_k=5):\n",
    "        all_predicted_ratings = (self.w @ self.h)[cur_user_id - 1]\n",
    "        \n",
    "        known_ratings = np.array(self.df.loc[self.df['user_id'] == cur_user_id]['movie_id'])\n",
    "        \n",
    "        need_to_predict = [i for i in movie_info[\"movie_id\"] if i not in known_ratings]\n",
    "        \n",
    "        need_to_predict.sort(key=lambda x: all_predicted_ratings[x - 1], reverse=True)\n",
    "        \n",
    "        res = np.array(need_to_predict[:best_k])\n",
    "        \n",
    "        best_names = [self.movie_info[self.movie_info[\"movie_id\"] == x][\"name\"].to_string() for x in res]\n",
    "        \n",
    "        return best_names\n",
    "    \n",
    "    def get_similars(self, cur_movie_id, best_k=5):       \n",
    "        cur_movie_embedding = self.h[:, cur_movie_id - 1]\n",
    "        \n",
    "        all_films = [i for i in movie_info[\"movie_id\"]]\n",
    "        \n",
    "        all_films.sort(key=lambda x: np.linalg.norm(cur_movie_embedding - self.h[:, x - 1]))\n",
    "        \n",
    "        res = np.array(all_films[:best_k])\n",
    "        \n",
    "        best_names = [self.movie_info[self.movie_info[\"movie_id\"] == x][\"name\"].to_string() for x in res]\n",
    "        \n",
    "        return best_names"
   ]
  },
  {
   "cell_type": "code",
   "execution_count": 27,
   "metadata": {},
   "outputs": [
    {
     "name": "stdout",
     "output_type": "stream",
     "text": [
      "current: 0/100, rmse: 0.7506248239631461\n",
      "current: 10/100, rmse: 0.9058937026374565\n",
      "current: 20/100, rmse: 0.8609916828066873\n",
      "current: 30/100, rmse: 0.8358536589955023\n",
      "current: 40/100, rmse: 0.8256677691905722\n",
      "current: 50/100, rmse: 0.8189308492088085\n",
      "current: 60/100, rmse: 0.8086712269406495\n",
      "current: 70/100, rmse: 0.7934376022770077\n",
      "current: 80/100, rmse: 0.7777090590675776\n",
      "current: 90/100, rmse: 0.7644041119936322\n",
      "current: 100/100, rmse: 0.7531534957478487\n",
      "CPU times: user 39.4 s, sys: 9.47 s, total: 48.9 s\n",
      "Wall time: 11.8 s\n"
     ]
    }
   ],
   "source": [
    "%%time\n",
    "\n",
    "model = als(max_iter=100)\n",
    "\n",
    "model.fit(implicit_ratings, movie_info)"
   ]
  },
  {
   "cell_type": "code",
   "execution_count": 28,
   "metadata": {},
   "outputs": [
    {
     "name": "stdout",
     "output_type": "stream",
     "text": [
      "This guy's history is:\n",
      "257    Star Wars: Episode IV - A New Hope (1977)\n",
      "476    Jurassic Park (1993)\n",
      "1023    Die Hard (1988)\n",
      "1081    E.T. the Extra-Terrestrial (1982)\n",
      "1180    Raiders of the Lost Ark (1981)\n",
      "1183    Good, The Bad and The Ugly, The (1966)\n",
      "1196    Alien (1979)\n",
      "1220    Terminator, The (1984)\n",
      "1366    Jaws (1975)\n",
      "1885    Rocky (1976)\n",
      "1959    Saving Private Ryan (1998)\n",
      "2297    King Kong (1933)\n",
      "2623    Run Lola Run (Lola rennt) (1998)\n",
      "2878    Goldfinger (1964)\n",
      "2882    Fistful of Dollars, A (1964)\n",
      "3349    Thelma & Louise (1991)\n",
      "3399    Hustler, The (1961)\n",
      "3633    Mad Max (1979)\n",
      "\n",
      "So we recommend him:\n",
      "1178    Star Wars: Episode V - The Empire Strikes Back...\n",
      "585    Terminator 2: Judgment Day (1991)\n",
      "847    Godfather, The (1972)\n",
      "1192    Star Wars: Episode VI - Return of the Jedi (1983)\n",
      "1568    Hunt for Red October, The (1990)\n",
      "1182    Aliens (1986)\n",
      "108    Braveheart (1995)\n",
      "1271    Indiana Jones and the Last Crusade (1989)\n",
      "1931    Lethal Weapon (1987)\n",
      "1353    Star Trek: The Wrath of Khan (1982)\n"
     ]
    }
   ],
   "source": [
    "history = model.get_history(4)\n",
    "\n",
    "print(\"This guy's history is:\")\n",
    "for token in history:\n",
    "    print(token)\n",
    "    \n",
    "recommendations = model.get_recommendations(4, 10)\n",
    "\n",
    "print(\"\\nSo we recommend him:\")\n",
    "for token in recommendations:\n",
    "    print(token)"
   ]
  },
  {
   "cell_type": "code",
   "execution_count": 29,
   "metadata": {},
   "outputs": [
    {
     "name": "stdout",
     "output_type": "stream",
     "text": [
      "0    Toy Story (1995)\n",
      "1245    Groundhog Day (1993)\n",
      "3045    Toy Story 2 (1999)\n",
      "2286    Bug's Life, A (1998)\n",
      "584    Aladdin (1992)\n",
      "2647    Ghostbusters (1984)\n",
      "2918    Who Framed Roger Rabbit? (1988)\n",
      "33    Babe (1995)\n",
      "2849    Ferris Bueller's Day Off (1986)\n",
      "1854    There's Something About Mary (1998)\n"
     ]
    }
   ],
   "source": [
    "#best = model.get_similars(260, 10)\n",
    "best = model.get_similars(1, 10)\n",
    "\n",
    "for token in best:\n",
    "    print(token)"
   ]
  },
  {
   "cell_type": "markdown",
   "metadata": {},
   "source": [
    "### Задание 3. Не использую готовые решения, реализовать матричное разложение BPR на implicit данных"
   ]
  },
  {
   "cell_type": "code",
   "execution_count": 38,
   "metadata": {},
   "outputs": [],
   "source": [
    "class bpr:\n",
    "    def __init__(self, latent=64, regn=0.1, lr=0.01, max_iter=300, eps=0.0):\n",
    "        self.latent = latent\n",
    "        self.regn = regn\n",
    "        self.lr = lr\n",
    "        self.max_iter=max_iter\n",
    "        self.eps = eps\n",
    "        \n",
    "    def fit(self, df, movie_info):\n",
    "        #V = sp.coo_matrix((df['rating'], (df['user_id'], df['movie_id']))).tocsr()\n",
    "        \n",
    "        self.df = df\n",
    "        self.movie_info = movie_info\n",
    "        \n",
    "        self.total_users = np.max(df['user_id'])\n",
    "        self.total_items = np.max(df['movie_id'])\n",
    "        self.total_len = len(df)\n",
    "        \n",
    "        W = np.random.random((self.total_users, self.latent)) * (1 / np.sqrt(self.latent))\n",
    "        H = np.random.random((self.latent, self.total_items)) * (1 / np.sqrt(self.latent))\n",
    "        \n",
    "        cur_iter = 0\n",
    "        \n",
    "        all_movies = [i for i in movie_info[\"movie_id\"]]\n",
    "        \n",
    "        seen_movies_by_user = {}\n",
    "        not_seen_movies_by_user = {}\n",
    "        for u in range(1, self.total_users + 1):\n",
    "            seen_movies_by_user[u] = np.array(self.df[self.df['user_id'] == u]['movie_id'])\n",
    "            not_seen_movies_by_user[u] = np.array([i for i in all_movies if i not in seen_movies_by_user[u]])\n",
    "            \n",
    "        print('Precalc is completed!')\n",
    "        \n",
    "        while cur_iter <= self.max_iter + 1:\n",
    "            if cur_iter % 100000 == 0:\n",
    "                rmse = np.linalg.norm((W@H)[df['user_id']-1, df['movie_id']-1] - df['rating'])\n",
    "                rmse /= np.sqrt(self.total_len)\n",
    "                if rmse <= self.eps:\n",
    "                    print(f\"Let's stop on iter {cur_iter}!\")\n",
    "                    break\n",
    "                    \n",
    "                print(f'current: {cur_iter}/{self.max_iter}, rmse: {rmse}')\n",
    "            \n",
    "            u_id = np.random.randint(self.total_len)\n",
    "            u = self.df.iloc[u_id]['user_id']\n",
    "            i = np.random.choice(seen_movies_by_user[u])\n",
    "            j = np.random.choice(not_seen_movies_by_user[u])\n",
    "            \n",
    "            x_uij = (W[u - 1, :] @ H[:, i - 1]) - (W[u - 1, :] @ H[:, j - 1])\n",
    "            \n",
    "            exp_x = np.exp(-x_uij)\n",
    "            sigmoid = exp_x / (1 + exp_x)\n",
    "            \n",
    "            W[u - 1, :] += self.lr * (sigmoid * (H[:, i - 1] - H[:, j - 1]) - self.regn * W[u - 1, :])\n",
    "            \n",
    "            H[:, i - 1] += self.lr * (sigmoid * (W[u - 1, :]) - self.regn * H[:, i - 1])\n",
    "            \n",
    "            H[:, j - 1] += self.lr * (sigmoid * (-W[u - 1, :]) - self.regn * H[:, j - 1])\n",
    "            \n",
    "            cur_iter += 1\n",
    "            \n",
    "        self.w, self.h = W, H\n",
    "        \n",
    "    def get_history(self, cur_user_id):\n",
    "        history = [self.movie_info[self.movie_info[\"movie_id\"] == x][\"name\"].to_string() for x in self.df[self.df[\"user_id\"] == cur_user_id][\"movie_id\"]]\n",
    "        return history\n",
    "        \n",
    "    def get_recommendations(self, cur_user_id, best_k=5):\n",
    "        all_predicted_ratings = (self.w @ self.h)[cur_user_id - 1]\n",
    "        \n",
    "        known_ratings = np.array(self.df.loc[self.df['user_id'] == cur_user_id]['movie_id'])\n",
    "        \n",
    "        need_to_predict = [i for i in movie_info[\"movie_id\"] if i not in known_ratings]\n",
    "        \n",
    "        need_to_predict.sort(key=lambda x: all_predicted_ratings[x - 1], reverse=True)\n",
    "        \n",
    "        res = np.array(need_to_predict[:best_k])\n",
    "        \n",
    "        best_names = [self.movie_info[self.movie_info[\"movie_id\"] == x][\"name\"].to_string() for x in res]\n",
    "        \n",
    "        return best_names\n",
    "    \n",
    "    def get_similars(self, cur_movie_id, best_k=5):       \n",
    "        cur_movie_embedding = self.h[:, cur_movie_id - 1]\n",
    "        \n",
    "        all_films = [i for i in movie_info[\"movie_id\"]]\n",
    "        \n",
    "        all_films.sort(key=lambda x: np.linalg.norm(cur_movie_embedding - self.h[:, x - 1]))\n",
    "        \n",
    "        res = np.array(all_films[:best_k])\n",
    "        \n",
    "        best_names = [self.movie_info[self.movie_info[\"movie_id\"] == x][\"name\"].to_string() for x in res]\n",
    "        \n",
    "        return best_names"
   ]
  },
  {
   "cell_type": "code",
   "execution_count": 39,
   "metadata": {},
   "outputs": [
    {
     "name": "stdout",
     "output_type": "stream",
     "text": [
      "Precalc is completed!\n",
      "current: 0/1000000, rmse: 0.7509700817353809\n",
      "current: 100000/1000000, rmse: 0.6919820173974665\n",
      "current: 200000/1000000, rmse: 0.6458982368551557\n",
      "current: 300000/1000000, rmse: 0.6042568268040082\n",
      "current: 400000/1000000, rmse: 0.5656521007450733\n",
      "current: 500000/1000000, rmse: 0.532614458735839\n",
      "current: 600000/1000000, rmse: 0.5067481743739117\n",
      "current: 700000/1000000, rmse: 0.49033871698428033\n",
      "current: 800000/1000000, rmse: 0.4830683086965228\n",
      "current: 900000/1000000, rmse: 0.48327563722441325\n",
      "current: 1000000/1000000, rmse: 0.4877005041745\n",
      "CPU times: user 3min 54s, sys: 955 ms, total: 3min 55s\n",
      "Wall time: 3min 52s\n"
     ]
    }
   ],
   "source": [
    "%%time\n",
    "\n",
    "model = bpr(max_iter=int(1e6))\n",
    "\n",
    "model.fit(implicit_ratings, movie_info)"
   ]
  },
  {
   "cell_type": "code",
   "execution_count": 40,
   "metadata": {},
   "outputs": [
    {
     "name": "stdout",
     "output_type": "stream",
     "text": [
      "This guy's history is:\n",
      "257    Star Wars: Episode IV - A New Hope (1977)\n",
      "476    Jurassic Park (1993)\n",
      "1023    Die Hard (1988)\n",
      "1081    E.T. the Extra-Terrestrial (1982)\n",
      "1180    Raiders of the Lost Ark (1981)\n",
      "1183    Good, The Bad and The Ugly, The (1966)\n",
      "1196    Alien (1979)\n",
      "1220    Terminator, The (1984)\n",
      "1366    Jaws (1975)\n",
      "1885    Rocky (1976)\n",
      "1959    Saving Private Ryan (1998)\n",
      "2297    King Kong (1933)\n",
      "2623    Run Lola Run (Lola rennt) (1998)\n",
      "2878    Goldfinger (1964)\n",
      "2882    Fistful of Dollars, A (1964)\n",
      "3349    Thelma & Louise (1991)\n",
      "3399    Hustler, The (1961)\n",
      "3633    Mad Max (1979)\n",
      "\n",
      "So we recommend him:\n",
      "1178    Star Wars: Episode V - The Empire Strikes Back...\n",
      "589    Silence of the Lambs, The (1991)\n",
      "1179    Princess Bride, The (1987)\n",
      "2789    American Beauty (1999)\n",
      "1192    Star Wars: Episode VI - Return of the Jedi (1983)\n",
      "1575    L.A. Confidential (1997)\n",
      "604    Fargo (1996)\n",
      "585    Terminator 2: Judgment Day (1991)\n",
      "847    Godfather, The (1972)\n",
      "2502    Matrix, The (1999)\n"
     ]
    }
   ],
   "source": [
    "history = model.get_history(4)\n",
    "\n",
    "print(\"This guy's history is:\")\n",
    "for token in history:\n",
    "    print(token)\n",
    "    \n",
    "recommendations = model.get_recommendations(4, 10)\n",
    "\n",
    "print(\"\\nSo we recommend him:\")\n",
    "for token in recommendations:\n",
    "    print(token)"
   ]
  },
  {
   "cell_type": "code",
   "execution_count": 41,
   "metadata": {},
   "outputs": [
    {
     "name": "stdout",
     "output_type": "stream",
     "text": [
      "0    Toy Story (1995)\n",
      "1250    Back to the Future (1985)\n",
      "2693    Sixth Sense, The (1999)\n",
      "476    Jurassic Park (1993)\n",
      "1245    Groundhog Day (1993)\n",
      "1539    Men in Black (1997)\n",
      "315    Shawshank Redemption, The (1994)\n",
      "1220    Terminator, The (1984)\n",
      "293    Pulp Fiction (1994)\n",
      "847    Godfather, The (1972)\n"
     ]
    }
   ],
   "source": [
    "#best = model.get_similars(260, 10)\n",
    "best = model.get_similars(1, 10)\n",
    "\n",
    "for token in best:\n",
    "    print(token)"
   ]
  },
  {
   "cell_type": "markdown",
   "metadata": {},
   "source": [
    "### Задание 4. Не использую готовые решения, реализовать матричное разложение WARP на implicit данных"
   ]
  },
  {
   "cell_type": "code",
   "execution_count": 34,
   "metadata": {},
   "outputs": [],
   "source": [
    "class warp:\n",
    "    def __init__(self, latent=64, regn=1, lr=0.0001, max_iter=300, eps=0.0):\n",
    "        self.latent = latent\n",
    "        self.regn = regn\n",
    "        self.lr = lr\n",
    "        self.max_iter=max_iter\n",
    "        self.eps = eps\n",
    "        \n",
    "    def fit(self, df, movie_info):\n",
    "        #V = sp.coo_matrix((df['rating'], (df['user_id'], df['movie_id']))).tocsr()\n",
    "        \n",
    "        self.df = df\n",
    "        self.movie_info = movie_info\n",
    "        \n",
    "        self.total_users = np.max(df['user_id'])\n",
    "        self.total_items = np.max(df['movie_id'])\n",
    "        self.total_len = len(df)\n",
    "        \n",
    "        W = np.random.random((self.total_users, self.latent)) * (1 / np.sqrt(self.latent))\n",
    "        H = np.random.random((self.latent, self.total_items)) * (1 / np.sqrt(self.latent))\n",
    "        \n",
    "        cur_iter = 0\n",
    "            \n",
    "        def partial_BPR(x_uij, partial_x):\n",
    "            exp_x = np.exp(-x_uij)\n",
    "            return exp_x / (1 + exp_x) * partial_x\n",
    "        \n",
    "        all_movies = [i for i in movie_info[\"movie_id\"]]\n",
    "        \n",
    "        seen_movies_by_user = {}\n",
    "        not_seen_movies_by_user = {}\n",
    "        for u in range(1, self.total_users + 1):\n",
    "            seen_movies_by_user[u] = np.array(self.df[self.df['user_id'] == u]['movie_id'])\n",
    "            not_seen_movies_by_user[u] = np.array([i for i in all_movies if i not in seen_movies_by_user[u]])\n",
    "            \n",
    "        print('Precalc is completed!')\n",
    "        \n",
    "        while cur_iter <= self.max_iter + 1:\n",
    "            if cur_iter % 100000 == 0:\n",
    "                rmse = np.linalg.norm((W@H)[df['user_id']-1, df['movie_id']-1] - df['rating'])\n",
    "                rmse /= np.sqrt(self.total_len)\n",
    "                if rmse <= self.eps:\n",
    "                    print(f\"Let's stop on iter {cur_iter}!\")\n",
    "                    break\n",
    "                    \n",
    "                print(f'current: {cur_iter}/{self.max_iter}, rmse: {rmse}')\n",
    "            \n",
    "            u_id = np.random.randint(self.total_len)\n",
    "            u = self.df.iloc[u_id]['user_id']\n",
    "            i = np.random.choice(seen_movies_by_user[u])\n",
    "            \n",
    "            pred = W[u - 1] @ H[:, i - 1]\n",
    "            unseen_for_user = not_seen_movies_by_user[u]\n",
    "            \n",
    "            q = 0\n",
    "            for j in np.random.permutation(unseen_for_user):\n",
    "                q += 1\n",
    "                if W[u - 1] @ H[:, j - 1] + 1 > pred:\n",
    "                    log_proba = np.log(len(unseen_for_user) / q)\n",
    "                    \n",
    "                    W[u - 1] = W[u - 1] - self.lr * log_proba * (H[:, j - 1] - H[:, i - 1]) + self.regn * self.lr * W[u - 1]\n",
    "                    H[:, i - 1] = H[:, i - 1] + self.lr * log_proba * (W[u - 1]) + self.regn * self.lr * H[:, i - 1]\n",
    "                    H[:, j - 1] = H[:, j - 1] - self.lr * log_proba * (W[u - 1]) + self.regn * self.lr * H[:, j - 1]\n",
    "                    break\n",
    "            \n",
    "            cur_iter += 1\n",
    "            \n",
    "        self.w, self.h = W, H\n",
    "        \n",
    "    def get_history(self, cur_user_id):\n",
    "        history = [self.movie_info[self.movie_info[\"movie_id\"] == x][\"name\"].to_string() for x in self.df[self.df[\"user_id\"] == cur_user_id][\"movie_id\"]]\n",
    "        return history\n",
    "        \n",
    "    def get_recommendations(self, cur_user_id, best_k=5):\n",
    "        all_predicted_ratings = (self.w @ self.h)[cur_user_id - 1]\n",
    "        \n",
    "        known_ratings = np.array(self.df.loc[self.df['user_id'] == cur_user_id]['movie_id'])\n",
    "        \n",
    "        need_to_predict = [i for i in movie_info[\"movie_id\"] if i not in known_ratings]\n",
    "        \n",
    "        need_to_predict.sort(key=lambda x: all_predicted_ratings[x - 1], reverse=True)\n",
    "        \n",
    "        res = np.array(need_to_predict[:best_k])\n",
    "        \n",
    "        best_names = [self.movie_info[self.movie_info[\"movie_id\"] == x][\"name\"].to_string() for x in res]\n",
    "        \n",
    "        return best_names\n",
    "    \n",
    "    def get_similars(self, cur_movie_id, best_k=5):       \n",
    "        cur_movie_embedding = self.h[:, cur_movie_id - 1]\n",
    "        \n",
    "        all_films = [i for i in movie_info[\"movie_id\"]]\n",
    "        \n",
    "        all_films.sort(key=lambda x: np.linalg.norm(cur_movie_embedding - self.h[:, x - 1]))\n",
    "        \n",
    "        res = np.array(all_films[:best_k])\n",
    "        \n",
    "        best_names = [self.movie_info[self.movie_info[\"movie_id\"] == x][\"name\"].to_string() for x in res]\n",
    "        \n",
    "        return best_names"
   ]
  },
  {
   "cell_type": "code",
   "execution_count": 35,
   "metadata": {},
   "outputs": [
    {
     "name": "stdout",
     "output_type": "stream",
     "text": [
      "Precalc is completed!\n",
      "current: 0/1500000, rmse: 0.7505114678367546\n",
      "current: 100000/1500000, rmse: 0.7265920463430235\n",
      "current: 200000/1500000, rmse: 0.702190795535047\n",
      "current: 300000/1500000, rmse: 0.6770941167005018\n",
      "current: 400000/1500000, rmse: 0.6518765675305429\n",
      "current: 500000/1500000, rmse: 0.6265250710724803\n",
      "current: 600000/1500000, rmse: 0.6018156914036056\n",
      "current: 700000/1500000, rmse: 0.5785972101317821\n",
      "current: 800000/1500000, rmse: 0.558082441479489\n",
      "current: 900000/1500000, rmse: 0.5419789308299597\n",
      "current: 1000000/1500000, rmse: 0.531699782558143\n",
      "current: 1100000/1500000, rmse: 0.5289940063387015\n",
      "current: 1200000/1500000, rmse: 0.5345046268098664\n",
      "current: 1300000/1500000, rmse: 0.5506559590585585\n",
      "current: 1400000/1500000, rmse: 0.5776895661135728\n",
      "current: 1500000/1500000, rmse: 0.6160193584882127\n",
      "CPU times: user 6min 55s, sys: 1.78 s, total: 6min 57s\n",
      "Wall time: 6min 52s\n"
     ]
    }
   ],
   "source": [
    "%%time\n",
    "\n",
    "model = warp(max_iter=1500000)\n",
    "\n",
    "model.fit(implicit_ratings, movie_info)"
   ]
  },
  {
   "cell_type": "code",
   "execution_count": 36,
   "metadata": {},
   "outputs": [
    {
     "name": "stdout",
     "output_type": "stream",
     "text": [
      "This guy's history is:\n",
      "257    Star Wars: Episode IV - A New Hope (1977)\n",
      "476    Jurassic Park (1993)\n",
      "1023    Die Hard (1988)\n",
      "1081    E.T. the Extra-Terrestrial (1982)\n",
      "1180    Raiders of the Lost Ark (1981)\n",
      "1183    Good, The Bad and The Ugly, The (1966)\n",
      "1196    Alien (1979)\n",
      "1220    Terminator, The (1984)\n",
      "1366    Jaws (1975)\n",
      "1885    Rocky (1976)\n",
      "1959    Saving Private Ryan (1998)\n",
      "2297    King Kong (1933)\n",
      "2623    Run Lola Run (Lola rennt) (1998)\n",
      "2878    Goldfinger (1964)\n",
      "2882    Fistful of Dollars, A (1964)\n",
      "3349    Thelma & Louise (1991)\n",
      "3399    Hustler, The (1961)\n",
      "3633    Mad Max (1979)\n",
      "\n",
      "So we recommend him:\n",
      "2789    American Beauty (1999)\n",
      "1178    Star Wars: Episode V - The Empire Strikes Back...\n",
      "589    Silence of the Lambs, The (1991)\n",
      "2502    Matrix, The (1999)\n",
      "2693    Sixth Sense, The (1999)\n",
      "604    Fargo (1996)\n",
      "523    Schindler's List (1993)\n",
      "1192    Star Wars: Episode VI - Return of the Jedi (1983)\n",
      "585    Terminator 2: Judgment Day (1991)\n",
      "847    Godfather, The (1972)\n"
     ]
    }
   ],
   "source": [
    "history = model.get_history(4)\n",
    "\n",
    "print(\"This guy's history is:\")\n",
    "for token in history:\n",
    "    print(token)\n",
    "    \n",
    "recommendations = model.get_recommendations(4, 10)\n",
    "\n",
    "print(\"\\nSo we recommend him:\")\n",
    "for token in recommendations:\n",
    "    print(token)"
   ]
  },
  {
   "cell_type": "code",
   "execution_count": 37,
   "metadata": {},
   "outputs": [
    {
     "name": "stdout",
     "output_type": "stream",
     "text": [
      "0    Toy Story (1995)\n",
      "476    Jurassic Park (1993)\n",
      "2928    Being John Malkovich (1999)\n",
      "1575    L.A. Confidential (1997)\n",
      "2647    Ghostbusters (1984)\n",
      "49    Usual Suspects, The (1995)\n",
      "537    Blade Runner (1982)\n",
      "1245    Groundhog Day (1993)\n",
      "1220    Terminator, The (1984)\n",
      "293    Pulp Fiction (1994)\n"
     ]
    }
   ],
   "source": [
    "#best = model.get_similars(260, 10)\n",
    "best = model.get_similars(1, 10)\n",
    "\n",
    "for token in best:\n",
    "    print(token)"
   ]
  },
  {
   "cell_type": "code",
   "execution_count": null,
   "metadata": {},
   "outputs": [],
   "source": []
  }
 ],
 "metadata": {
  "kernelspec": {
   "display_name": "Python 3",
   "language": "python",
   "name": "python3"
  },
  "language_info": {
   "codemirror_mode": {
    "name": "ipython",
    "version": 3
   },
   "file_extension": ".py",
   "mimetype": "text/x-python",
   "name": "python",
   "nbconvert_exporter": "python",
   "pygments_lexer": "ipython3",
   "version": "3.7.7"
  }
 },
 "nbformat": 4,
 "nbformat_minor": 2
}
